{
 "cells": [
  {
   "cell_type": "code",
   "execution_count": 297,
   "id": "da705596",
   "metadata": {},
   "outputs": [
    {
     "name": "stderr",
     "output_type": "stream",
     "text": [
      "C:\\Users\\Administrator\\AppData\\Local\\Temp\\ipykernel_4316\\481445099.py:12: DtypeWarning: Columns (345,347,349,574,575,576) have mixed types. Specify dtype option on import or set low_memory=False.\n",
      "  df = pd.read_csv('D:\\Linh\\WVS7.csv')\n"
     ]
    }
   ],
   "source": [
    "import numpy as np\n",
    "import pandas as pd\n",
    "import pandas as pd\n",
    "#import seaborn as sns\n",
    "import matplotlib.pyplot as plt\n",
    "from prettytable import PrettyTable\n",
    "#from sklearn import preprocessing, svm\n",
    "#from sklearn.model_selection import train_test_split\n",
    "from sklearn.linear_model import LinearRegression\n",
    "from sklearn.linear_model import LogisticRegression\n",
    "\n",
    "df = pd.read_csv('D:\\Linh\\WVS7.csv')"
   ]
  },
  {
   "cell_type": "code",
   "execution_count": 298,
   "id": "49cfb589",
   "metadata": {},
   "outputs": [
    {
     "name": "stdout",
     "output_type": "stream",
     "text": [
      "       Year  Gender  Happiness  Age  Income  Marital  Childs\n",
      "0      2018       2          1   60       2        1       2\n",
      "1      2018       1          1   47       3        2       0\n",
      "2      2018       1          2   48       2        4       0\n",
      "3      2018       2          2   62       2        2       1\n",
      "4      2018       1          2   49       2        2       0\n",
      "...     ...     ...        ...  ...     ...      ...     ...\n",
      "94273  2022       2          2   83      -2        5      -4\n",
      "94274  2022       1          1   34       2        2      -4\n",
      "94275  2022       2          1   19       2        6      -4\n",
      "94276  2022       2          2   19       3        6      -4\n",
      "94277  2022       1          1   53       2        1      -4\n",
      "\n",
      "[94278 rows x 7 columns]\n"
     ]
    }
   ],
   "source": [
    "# Tạo bảng dữ liệu data\n",
    "dt = {\n",
    "    \"Year\": df[\"A_YEAR\"],\n",
    "    \"Gender\": df[\"Q260\"],\n",
    "    \"Happiness\": df[\"Q46\"],\n",
    "    \"Age\": df[\"Q262\"],\n",
    "    \"Income\": df[\"Q288R\"],\n",
    "    \"Marital\": df[\"Q273\"],\n",
    "    \"Childs\": df[\"Q274\"]\n",
    "}\n",
    "dt = pd.DataFrame(dt)\n",
    "print(dt)"
   ]
  },
  {
   "cell_type": "code",
   "execution_count": 299,
   "id": "a47d9f38",
   "metadata": {},
   "outputs": [
    {
     "name": "stdout",
     "output_type": "stream",
     "text": [
      "Male\n",
      "        Year  Gender  Happiness  Age  Income  Marital  Childs\n",
      "0      2018       1          1   47       3        2       0\n",
      "1      2018       1          2   48       2        4       0\n",
      "2      2018       1          2   49       2        2       0\n",
      "3      2018       1          2   54       2        1       1\n",
      "4      2018       1          1   39       3        1       2\n",
      "...     ...     ...        ...  ...     ...      ...     ...\n",
      "41157  2021       1          1   32       1        2       5\n",
      "41158  2021       1          2   23       2        6       0\n",
      "41159  2021       1          1   58       2        2       2\n",
      "41160  2021       1          2   37       1        2       4\n",
      "41161  2021       1          2   41       1        2       5\n",
      "\n",
      "[41162 rows x 7 columns]\n",
      "\n",
      "Female\n",
      "        Year  Gender  Happiness  Age  Income  Marital  Childs\n",
      "0      2018       2          1   60       2        1       2\n",
      "1      2018       2          2   62       2        2       1\n",
      "2      2018       2          1   51       2        1       3\n",
      "3      2018       2          2   33       1        1       1\n",
      "4      2018       2          1   40       2        6       0\n",
      "...     ...     ...        ...  ...     ...      ...     ...\n",
      "45710  2021       2          1   28       2        6       2\n",
      "45711  2021       2          2   40       2        2       2\n",
      "45712  2021       2          2   30       2        2       3\n",
      "45713  2021       2          1   59       1        6       6\n",
      "45714  2021       2          3   20       1        6       1\n",
      "\n",
      "[45715 rows x 7 columns]\n"
     ]
    }
   ],
   "source": [
    "# Loại bỏ các giá trị âm trong cột Income\n",
    "dt = dt.loc[(dt >= 0).all(axis=1)].reset_index(drop=True)\n",
    "\n",
    "# Tạo bảng dữ liệu male\n",
    "male = dt.loc[dt['Gender'] == 1].reset_index(drop=True)\n",
    "print(\"Male\\n\",male)\n",
    "\n",
    "# Tạo bảng dữ liệu female\n",
    "female = dt.loc[dt['Gender'] == 2].reset_index(drop=True)\n",
    "print(\"\\nFemale\\n\",female)"
   ]
  },
  {
   "cell_type": "code",
   "execution_count": 300,
   "id": "1ddde33f",
   "metadata": {},
   "outputs": [
    {
     "name": "stdout",
     "output_type": "stream",
     "text": [
      "+-----------------+--------------------+\n",
      "|    Thuộc tính   |      R-square      |\n",
      "+-----------------+--------------------+\n",
      "|      Gender     | 0.5461284344533075 |\n",
      "|       Age       | 0.5461284344533075 |\n",
      "|     Marital     | 0.5461284344533075 |\n",
      "|      Childs     | 0.5462895818225767 |\n",
      "|      Income     | 0.5461284344533075 |\n",
      "| Income, Marital | 0.5461284344533075 |\n",
      "+-----------------+--------------------+\n"
     ]
    }
   ],
   "source": [
    "model = LogisticRegression(solver='sag')\n",
    "table1 = PrettyTable()\n",
    "\n",
    "attributes = [\"Gender\", \"Age\", \"Marital\", \"Childs\", \"Income\"]\n",
    "r2_scores = []\n",
    "table1 = PrettyTable()\n",
    "for item in attributes:\n",
    "    X = dt[[item]]\n",
    "    y = dt[\"Happiness\"]\n",
    "    r2 = model.fit(X, y).score(X, y)\n",
    "    r2_scores.append(r2)\n",
    "\n",
    "table1.field_names = [\"Thuộc tính\", \"R-square\"]\n",
    "for i, item in enumerate(attributes):\n",
    "    table1.add_row([item, r2_scores[i]])\n",
    "    \n",
    "r2_scores.append(model.fit(dt[[\"Income\",\"Marital\"]], dt[\"Happiness\"]).score(dt[[\"Income\",\"Marital\"]], dt[\"Happiness\"]))\n",
    "table1.add_row([\"Income, Marital\", r2_scores[5]])\n",
    "\n",
    "print(table1)"
   ]
  },
  {
   "cell_type": "code",
   "execution_count": 301,
   "id": "d2700da2",
   "metadata": {},
   "outputs": [
    {
     "name": "stdout",
     "output_type": "stream",
     "text": [
      "+--------+-----------+--------+-------+--------+---------+----------+-------+\n",
      "|        | happiness | income |  age  | single | married | divorced | widow |\n",
      "+--------+-----------+--------+-------+--------+---------+----------+-------+\n",
      "|  male  |    1.88   |  1.86  | 43.32 | 27.01% |  57.5%  |  3.37%   | 2.53% |\n",
      "| female |    1.85   |  1.83  |  42.8 | 20.71% |  54.8%  |  5.29%   | 8.38% |\n",
      "| total  |    1.86   |  1.84  | 43.05 | 23.7%  |  56.08% |  4.38%   | 5.61% |\n",
      "+--------+-----------+--------+-------+--------+---------+----------+-------+\n"
     ]
    }
   ],
   "source": [
    "#Vẽ bảng thống kê\n",
    "table2 = PrettyTable()\n",
    "table2.field_names = [\"\", \"happiness\", \"income\", \"age\", \"single\", \"married\", \"divorced\", \"widow\"]\n",
    "\n",
    "table2.add_row([\"male\",\n",
    "               round(dt.loc[dt['Gender'] == 1, 'Happiness'].mean(), 2),\n",
    "               round(dt.loc[dt['Gender'] == 1, 'Income'].mean(), 2),\n",
    "               round(dt.loc[dt['Gender'] == 1, 'Age'].mean(), 2),\n",
    "               str(round(dt.loc[dt['Gender'] == 1, 'Marital'].value_counts(normalize=True)[6] * 100, 2)) + '%',  #single\n",
    "               str(round(dt.loc[dt['Gender'] == 1, 'Marital'].value_counts(normalize=True)[1] * 100, 2)) + '%',  #married\n",
    "               str(round(dt.loc[dt['Gender'] == 1, 'Marital'].value_counts(normalize=True)[3] * 100, 2)) + '%',  #divorced\n",
    "               str(round(dt.loc[dt['Gender'] == 1, 'Marital'].value_counts(normalize=True)[5] * 100, 2)) + '%']) #widow\n",
    "\n",
    "table2.add_row([\"female\",\n",
    "               round(dt.loc[dt['Gender'] == 2, 'Happiness'].mean(), 2),\n",
    "               round(dt.loc[dt['Gender'] == 2, 'Income'].mean(), 2),\n",
    "               round(dt.loc[dt['Gender'] == 2, 'Age'].mean(), 2),\n",
    "               str(round(dt.loc[dt['Gender'] == 2, 'Marital'].value_counts(normalize=True)[6] * 100, 2)) + '%',  #single\n",
    "               str(round(dt.loc[dt['Gender'] == 2, 'Marital'].value_counts(normalize=True)[1] * 100, 2)) + '%',  #married\n",
    "               str(round(dt.loc[dt['Gender'] == 2, 'Marital'].value_counts(normalize=True)[3] * 100, 2)) + '%',  #divorced\n",
    "               str(round(dt.loc[dt['Gender'] == 2, 'Marital'].value_counts(normalize=True)[5] * 100, 2)) + '%']) #widow\n",
    "\n",
    "table2.add_row([\"total\",\n",
    "               round(dt['Happiness'].mean(), 2),\n",
    "               round(dt['Income'].mean(), 2),\n",
    "               round(dt['Age'].mean(), 2),\n",
    "               str(round(dt['Marital'].value_counts(normalize=True)[6] * 100, 2)) + '%',  #single\n",
    "               str(round(dt['Marital'].value_counts(normalize=True)[1] * 100, 2)) + '%',  #married\n",
    "               str(round(dt['Marital'].value_counts(normalize=True)[3] * 100, 2)) + '%',  #divorced\n",
    "               str(round(dt['Marital'].value_counts(normalize=True)[5] * 100, 2)) + '%']) #widow\n",
    "print(table2)\n"
   ]
  },
  {
   "cell_type": "code",
   "execution_count": 302,
   "id": "400ede9b",
   "metadata": {},
   "outputs": [
    {
     "name": "stdout",
     "output_type": "stream",
     "text": [
      "Marital      Married  Divorced  Widow  Single\n",
      "Year Gender                                  \n",
      "2017 1         49.23      6.37   4.72   28.44\n",
      "     2         42.96      9.56  11.23   22.42\n",
      "2018 1         60.26      2.47   2.13   26.29\n",
      "     2         59.83      4.08   7.30   18.58\n",
      "2019 1         63.28      2.76   2.24   26.92\n",
      "     2         59.15      4.32  10.32   20.79\n",
      "2020 1         57.71      2.76   1.86   27.10\n",
      "     2         54.28      4.64   7.53   22.44\n",
      "2021 1         47.51      3.21   2.34   35.31\n",
      "     2         48.52      5.67   8.47   25.66\n",
      "2022 1         54.65      7.74   4.75   21.23\n",
      "     2         43.50      9.50  11.83   20.93\n"
     ]
    }
   ],
   "source": [
    "#Bảng tỉ lệ phần trăm\n",
    "per = dt.groupby(['Year', 'Gender'])['Marital'].value_counts(normalize=True) * 100\n",
    "per = per.unstack(level=[0, 1]).transpose().round(2)\n",
    "\n",
    "new_column_names = {1: 'Married', 3: 'Divorced',\n",
    "                    5: 'Widow', 6: 'Single'}\n",
    "per.rename(columns=new_column_names, inplace=True)\n",
    "print(per.loc[:, [\"Married\", \"Divorced\", \"Widow\", \"Single\"]])\n",
    "#male =1, female =2"
   ]
  },
  {
   "cell_type": "code",
   "execution_count": null,
   "id": "ed9ea5ac",
   "metadata": {},
   "outputs": [],
   "source": []
  }
 ],
 "metadata": {
  "kernelspec": {
   "display_name": "Python 3 (ipykernel)",
   "language": "python",
   "name": "python3"
  },
  "language_info": {
   "codemirror_mode": {
    "name": "ipython",
    "version": 3
   },
   "file_extension": ".py",
   "mimetype": "text/x-python",
   "name": "python",
   "nbconvert_exporter": "python",
   "pygments_lexer": "ipython3",
   "version": "3.10.9"
  }
 },
 "nbformat": 4,
 "nbformat_minor": 5
}
