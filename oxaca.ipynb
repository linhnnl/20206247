{
 "cells": [
  {
   "cell_type": "code",
   "execution_count": 211,
   "id": "da705596",
   "metadata": {},
   "outputs": [
    {
     "name": "stderr",
     "output_type": "stream",
     "text": [
      "C:\\Users\\Administrator\\AppData\\Local\\Temp\\ipykernel_4316\\3994919747.py:11: DtypeWarning: Columns (345,347,349,574,575,576) have mixed types. Specify dtype option on import or set low_memory=False.\n",
      "  df = pd.read_csv('D:\\Linh\\WVS7.csv')\n"
     ]
    }
   ],
   "source": [
    "import numpy as np\n",
    "import pandas as pd\n",
    "import pandas as pd\n",
    "import seaborn as sns\n",
    "import matplotlib.pyplot as plt\n",
    "from sklearn import preprocessing, svm\n",
    "from sklearn.model_selection import train_test_split\n",
    "from sklearn.linear_model import LinearRegression\n",
    "from sklearn.linear_model import LogisticRegression\n",
    "\n",
    "df = pd.read_csv('D:\\Linh\\WVS7.csv')"
   ]
  },
  {
   "cell_type": "code",
   "execution_count": 212,
   "id": "49cfb589",
   "metadata": {},
   "outputs": [],
   "source": [
    "# Tạo bảng dữ liệu data\n",
    "dt = {\n",
    "    \"Gender\": df[\"Q260\"],\n",
    "    \"Happiness\": df[\"Q46\"],\n",
    "    \"Age\": df[\"Q262\"],\n",
    "    \"Income\": df[\"Q288\"],\n",
    "    \"Marital\": df[\"Q273\"],\n",
    "    \"Childs\": df[\"Q274\"]\n",
    "}\n",
    "dt = pd.DataFrame(dt)\n",
    "#print(dt)"
   ]
  },
  {
   "cell_type": "code",
   "execution_count": 223,
   "id": "1bf6fa9f",
   "metadata": {},
   "outputs": [],
   "source": [
    "# Loại bỏ các giá trị âm trong cột Income\n",
    "dt = dt.loc[(dt['Happiness'] > 0) & (dt['Age'] > 0) & (dt['Income'] > 0) \n",
    "                & (dt['Marital'] > 0) & (dt['Childs'] > 0)].reset_index(drop=True)\n",
    "\n",
    "# Tạo bảng dữ liệu male\n",
    "male = dt.loc[dt['Gender'] == 1].reset_index(drop=True)\n",
    "\n",
    "# Tạo bảng dữ liệu female\n",
    "female = dt.loc[dt['Gender'] == 2].reset_index(drop=True)\n",
    "\n",
    "#print(male)\n",
    "#print(female)"
   ]
  },
  {
   "cell_type": "code",
   "execution_count": 214,
   "id": "13f08ed2",
   "metadata": {},
   "outputs": [
    {
     "name": "stdout",
     "output_type": "stream",
     "text": [
      "0.004497006065069753\n"
     ]
    }
   ],
   "source": [
    "\n",
    "X = dt[['Income']]\n",
    "y = dt['Happiness']\n",
    "\n",
    "# Separating the data into independent and dependent variables\n",
    "# Converting each dataframe into a numpy array\n",
    "# since each dataframe contains only one column\n",
    "#df_binary.dropna(inplace = True)\n",
    "\n",
    "# Dropping any rows with Nan values\n",
    "X_train, X_test, y_train, y_test = train_test_split(X, y, test_size = 0.25)\n",
    "\n",
    "# Splitting the data into training and testing data\n",
    "model = LinearRegression()\n",
    "\n",
    "model.fit(X_train, y_train)\n",
    "\n",
    "print(model.score(X_test, y_test))\n",
    "\n",
    "y_pred = model.predict(X_test)\n",
    "# Chuyển đổi y_test và y_pred thành pandas Series\n",
    "y_test_series = pd.Series(y_test, name='Actual').reset_index(drop = True)\n",
    "y_pred_series = pd.Series(y_pred, name='Predicted')\n",
    "\n",
    "# Tạo dataframe mới chứa hai cột Actual và Predicted\n",
    "df1 = pd.concat([y_test_series, y_pred_series], axis=1)\n",
    "#print(df1)\n"
   ]
  },
  {
   "cell_type": "code",
   "execution_count": 215,
   "id": "6f742e27",
   "metadata": {},
   "outputs": [
    {
     "name": "stdout",
     "output_type": "stream",
     "text": [
      "+-------------------------------+--------------------+\n",
      "|           Thuộc tính          |      R-square      |\n",
      "+-------------------------------+--------------------+\n",
      "|           Giới tính           | 0.5438808629796983 |\n",
      "|              Tuổi             | 0.5438808629796983 |\n",
      "|      Tình trạng hôn nhân      | 0.5438808629796983 |\n",
      "|           Số con cái          | 0.5439551114788179 |\n",
      "|            Thu nhập           | 0.5438808629796983 |\n",
      "| Thu nhập, tình trạng hôn nhân | 0.5438808629796983 |\n",
      "+-------------------------------+--------------------+\n"
     ]
    }
   ],
   "source": [
    "from prettytable import PrettyTable\n",
    "#from sklearn.linear_model import LogisticRegression\n",
    "\n",
    "table = PrettyTable()\n",
    "model = LogisticRegression(max_iter=1000)\n",
    "\n",
    "\n",
    "r2_scores = []\n",
    "r2_scores.append(model.fit(dt[[\"Gender\"]], dt[\"Happiness\"]).score(dt[[\"Gender\"]], dt[\"Happiness\"]))\n",
    "r2_scores.append(model.fit(dt[[\"Age\"]], dt[\"Happiness\"]).score(dt[[\"Age\"]], dt[\"Happiness\"]))\n",
    "r2_scores.append(model.fit(dt[[\"Marital\"]], dt[\"Happiness\"]).score(dt[[\"Marital\"]], dt[\"Happiness\"]))\n",
    "r2_scores.append(model.fit(dt[[\"Childs\"]], dt[\"Happiness\"]).score(dt[[\"Childs\"]], dt[\"Happiness\"]))\n",
    "r2_scores.append(model.fit(dt[[\"Income\"]], dt[\"Happiness\"]).score(dt[[\"Income\"]], dt[\"Happiness\"]))\n",
    "\n",
    "r2_scores.append(model.fit(dt[[\"Income\",\"Marital\"]], dt[\"Happiness\"]).score(dt[[\"Income\",\"Marital\"]], dt[\"Happiness\"]))\n",
    "\n",
    "\n",
    "table.field_names = [\"Thuộc tính\", \"R-square\"]\n",
    "table.add_row([\"Giới tính\", r2_scores[0]])\n",
    "table.add_row([\"Tuổi\", r2_scores[1]])\n",
    "table.add_row([\"Tình trạng hôn nhân\", r2_scores[2]])\n",
    "table.add_row([\"Số con cái\", r2_scores[3]])\n",
    "table.add_row([\"Thu nhập\", r2_scores[4]])\n",
    "table.add_row([\"Thu nhập, tình trạng hôn nhân\", r2_scores[5]])\n",
    "\n",
    "#table.add_row([\" \", \" \"])\n",
    "#table.add_row([\"Mean \", dt[\"Happiness\"].mean()])\n",
    "#table.add_row([\"Mean male\", male[\"Happiness\"].mean()])\n",
    "#table.add_row([\"Mean female\", female[\"Happiness\"].mean()])\n",
    "\n",
    "print(table)\n",
    "\n"
   ]
  },
  {
   "cell_type": "code",
   "execution_count": 225,
   "id": "ab595e6e",
   "metadata": {},
   "outputs": [
    {
     "name": "stdout",
     "output_type": "stream",
     "text": [
      "       Gender  Happiness  Age  Income  Marital  Childs\n",
      "0           2          1   60       5        1       2\n",
      "1           2          2   62       4        2       1\n",
      "2           2          1   51       5        1       3\n",
      "3           2          2   33       2        1       1\n",
      "4           2          1   38       6        2       1\n",
      "...       ...        ...  ...     ...      ...     ...\n",
      "61428       2          1   59       2        6       6\n",
      "61429       1          1   58       4        2       2\n",
      "61430       1          2   37       2        2       4\n",
      "61431       2          3   20       1        6       1\n",
      "61432       1          2   41       2        2       5\n",
      "\n",
      "[61433 rows x 6 columns]\n",
      "       Gender  Happiness  Age  Income  Marital  Childs\n",
      "0           2          1   60       5        1       2\n",
      "1           2          2   62       4        2       1\n",
      "2           2          1   51       5        1       3\n",
      "3           2          2   33       2        1       1\n",
      "4           2          1   38       6        2       1\n",
      "...       ...        ...  ...     ...      ...     ...\n",
      "61912       2          1   59       2        6       6\n",
      "61913       1          1   58       4        2       2\n",
      "61914       1          2   37       2        2       4\n",
      "61915       2          3   20       1        6       1\n",
      "61916       1          2   41       2        2       5\n",
      "\n",
      "[61917 rows x 6 columns]\n"
     ]
    },
    {
     "data": {
      "image/png": "[encoded data removed]",
      "text/plain": [
       "<Figure size 640x480 with 1 Axes>"
      ]
     },
     "metadata": {},
     "output_type": "display_data"
    }
   ],
   "source": [
    "model1 = LogisticRegression()\n",
    "X1 = dt[['Age']]\n",
    "y1 = dt['Happiness']\n",
    "model1.fit(X1,y1)\n",
    "y_pred = model1.predict(X1)\n",
    "plt.scatter(X1, y1, color ='b', alpha = 0.2)\n",
    "plt.plot(X1, y_pred, color ='k')\n",
    "\n",
    "print(dt)\n",
    "print(dt1)\n",
    "plt.show()\n"
   ]
  },
  {
   "cell_type": "code",
   "execution_count": 226,
   "id": "8a72b6fe",
   "metadata": {},
   "outputs": [
    {
     "name": "stdout",
     "output_type": "stream",
     "text": [
      "Không có giá trị âm trong cột Happiness.\n"
     ]
    }
   ],
   "source": [
    "\n"
   ]
  },
  {
   "cell_type": "code",
   "execution_count": null,
   "id": "ff5562c8",
   "metadata": {},
   "outputs": [],
   "source": []
  }
 ],
 "metadata": {
  "kernelspec": {
   "display_name": "Python 3 (ipykernel)",
   "language": "python",
   "name": "python3"
  },
  "language_info": {
   "codemirror_mode": {
    "name": "ipython",
    "version": 3
   },
   "file_extension": ".py",
   "mimetype": "text/x-python",
   "name": "python",
   "nbconvert_exporter": "python",
   "pygments_lexer": "ipython3",
   "version": "3.10.9"
  }
 },
 "nbformat": 4,
 "nbformat_minor": 5
}
